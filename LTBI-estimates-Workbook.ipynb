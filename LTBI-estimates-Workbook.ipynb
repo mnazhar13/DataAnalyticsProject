{
 "cells": [
  {
   "cell_type": "markdown",
   "metadata": {},
   "source": [
    "## SECP3223-02 Project - WHO TB Infection Estimates in Household Contacts\n",
    "\n",
    "## Group DataPioneers\n",
    "\n",
    "### Muhammad Nur Azhar Bin Mohd Yazid (A22EC0220) - Project Lead\n",
    "### Che Marhumi Bin Che Ab Rahim (A22EC0147)\n",
    "### Muhammad Safwan Bin Mohd Azmi (A22EC0221)"
   ]
  },
  {
   "cell_type": "markdown",
   "metadata": {},
   "source": [
    "## Data Dictionary\n",
    "\n",
    "| **Column Name**                 | **Description**                                                                                     | **Data Type** |\n",
    "|----------------------------------|-----------------------------------------------------------------------------------------------------|---------------|\n",
    "| `country`                       | Name of the country                                                                                 | Category      |\n",
    "| `iso2`                          | 2-letter ISO country code (some missing values)                                                     | Category      |\n",
    "| `iso3`                          | 3-letter ISO country code                                                                            | Category      |\n",
    "| `iso_numeric`                   | Numeric ISO country code                                                                             | Integer       |\n",
    "| `g_whoregion`                   | WHO regional affiliation                                                                             | Category      |\n",
    "| `year`                          | Year of the estimate                                                                                 | Integer       |\n",
    "| `source_hh`                     | Source of household size data                                                                        | Category      |\n",
    "| `e_hh_size`                     | Estimated average household size                                                                     | Float         |\n",
    "| `prevtx_data_available`         | Indicator of whether previous treatment data is available                                            | Float         |\n",
    "| `newinc_con_prevtx`             | New TB cases in contacts with previous treatment (partially available)                              | Float         |\n",
    "| `newinc_con04_prevtx`           | New TB cases in children under 5 years in contacts with previous treatment                           | Float         |\n",
    "| `e_hh_contacts`                 | Estimated total household contacts                                                                   | Float         |\n",
    "| `e_hh_contacts_lo`              | Lower bound of estimated household contacts                                                         | Float         |\n",
    "| `e_hh_contacts_hi`              | Upper bound of estimated household contacts                                                         | Float         |\n",
    "| `e_prevtx_hh_contacts_pct`      | Percentage of household contacts with previous TB treatment                                          | Float         |\n",
    "| `e_prevtx_hh_contacts_pct_lo`   | Lower bound of percentage of household contacts with previous TB treatment                          | Float         |\n",
    "| `e_prevtx_hh_contacts_pct_hi`   | Upper bound of percentage of household contacts with previous TB treatment                          | Float         |\n",
    "| `e_prevtx_eligible`             | Estimated number of individuals eligible for treatment                                               | Float         |\n",
    "| `e_prevtx_eligible_lo`          | Lower bound of estimated individuals eligible for treatment                                          | Float         |\n",
    "| `e_prevtx_eligible_hi`          | Upper bound of estimated individuals eligible for treatment                                          | Float         |\n",
    "| `e_prevtx_kids_pct`             | Percentage of eligible individuals who are children                                                  | Float         |\n",
    "| `e_prevtx_kids_pct_lo`          | Lower bound of the percentage of eligible children                                                   | Float         |\n",
    "| `e_prevtx_kids_pct_hi`          | Upper bound of the percentage of eligible children                                                   | Float         |\n",
    "| `household_contact_rate`        | Derived feature: household contact rate (total contacts divided by household size)                   | Float         |\n"
   ]
  },
  {
   "cell_type": "markdown",
   "metadata": {},
   "source": [
    "## Part A: Data Cleaning and Preparation\n",
    "### Step 1: Load the dataset"
   ]
  },
  {
   "cell_type": "code",
   "execution_count": 2,
   "metadata": {},
   "outputs": [],
   "source": [
    "import pandas as pd\n",
    "\n",
    "file_path = 'LTBI_estimates.csv'\n",
    "tb_data = pd.read_csv(file_path)"
   ]
  },
  {
   "cell_type": "markdown",
   "metadata": {},
   "source": [
    "### Step 2: Understanding the Data"
   ]
  },
  {
   "cell_type": "code",
   "execution_count": 3,
   "metadata": {},
   "outputs": [
    {
     "name": "stdout",
     "output_type": "stream",
     "text": [
      "<class 'pandas.core.frame.DataFrame'>\n",
      "RangeIndex: 1710 entries, 0 to 1709\n",
      "Data columns (total 25 columns):\n",
      " #   Column                        Non-Null Count  Dtype  \n",
      "---  ------                        --------------  -----  \n",
      " 0   country                       1710 non-null   object \n",
      " 1   iso2                          1701 non-null   object \n",
      " 2   iso3                          1710 non-null   object \n",
      " 3   iso_numeric                   1710 non-null   int64  \n",
      " 4   g_whoregion                   1710 non-null   object \n",
      " 5   year                          1710 non-null   int64  \n",
      " 6   source_hh                     1710 non-null   object \n",
      " 7   e_hh_size                     1710 non-null   float64\n",
      " 8   prevtx_data_available         1564 non-null   float64\n",
      " 9   newinc_con_prevtx             753 non-null    float64\n",
      " 10  newinc_con04_prevtx           1068 non-null   float64\n",
      " 11  ptsurvey_newinc               14 non-null     float64\n",
      " 12  ptsurvey_newinc_con04_prevtx  14 non-null     float64\n",
      " 13  e_hh_contacts                 1692 non-null   float64\n",
      " 14  e_hh_contacts_lo              1692 non-null   float64\n",
      " 15  e_hh_contacts_hi              1692 non-null   float64\n",
      " 16  e_prevtx_hh_contacts_pct      1066 non-null   float64\n",
      " 17  e_prevtx_hh_contacts_pct_lo   1066 non-null   float64\n",
      " 18  e_prevtx_hh_contacts_pct_hi   1066 non-null   float64\n",
      " 19  e_prevtx_eligible             1692 non-null   float64\n",
      " 20  e_prevtx_eligible_lo          1692 non-null   float64\n",
      " 21  e_prevtx_eligible_hi          1692 non-null   float64\n",
      " 22  e_prevtx_kids_pct             1107 non-null   float64\n",
      " 23  e_prevtx_kids_pct_lo          1107 non-null   float64\n",
      " 24  e_prevtx_kids_pct_hi          1107 non-null   float64\n",
      "dtypes: float64(18), int64(2), object(5)\n",
      "memory usage: 334.1+ KB\n",
      "country                            0\n",
      "iso2                               9\n",
      "iso3                               0\n",
      "iso_numeric                        0\n",
      "g_whoregion                        0\n",
      "year                               0\n",
      "source_hh                          0\n",
      "e_hh_size                          0\n",
      "prevtx_data_available            146\n",
      "newinc_con_prevtx                957\n",
      "newinc_con04_prevtx              642\n",
      "ptsurvey_newinc                 1696\n",
      "ptsurvey_newinc_con04_prevtx    1696\n",
      "e_hh_contacts                     18\n",
      "e_hh_contacts_lo                  18\n",
      "e_hh_contacts_hi                  18\n",
      "e_prevtx_hh_contacts_pct         644\n",
      "e_prevtx_hh_contacts_pct_lo      644\n",
      "e_prevtx_hh_contacts_pct_hi      644\n",
      "e_prevtx_eligible                 18\n",
      "e_prevtx_eligible_lo              18\n",
      "e_prevtx_eligible_hi              18\n",
      "e_prevtx_kids_pct                603\n",
      "e_prevtx_kids_pct_lo             603\n",
      "e_prevtx_kids_pct_hi             603\n",
      "dtype: int64\n"
     ]
    }
   ],
   "source": [
    "# Basic info and summary statistics\n",
    "tb_data.info()\n",
    "tb_data.describe(include='all')\n",
    "\n",
    "# Check for missing values\n",
    "missing_summary = tb_data.isnull().sum()\n",
    "print(missing_summary)"
   ]
  },
  {
   "cell_type": "markdown",
   "metadata": {},
   "source": [
    "### Step 3: Handling Missing Values"
   ]
  },
  {
   "cell_type": "code",
   "execution_count": 4,
   "metadata": {},
   "outputs": [
    {
     "name": "stderr",
     "output_type": "stream",
     "text": [
      "C:\\Users\\MNAZHAR\\AppData\\Local\\Temp\\ipykernel_44760\\3112744729.py:9: FutureWarning: A value is trying to be set on a copy of a DataFrame or Series through chained assignment using an inplace method.\n",
      "The behavior will change in pandas 3.0. This inplace method will never work because the intermediate object on which we are setting values always behaves as a copy.\n",
      "\n",
      "For example, when doing 'df[col].method(value, inplace=True)', try using 'df.method({col: value}, inplace=True)' or df[col] = df[col].method(value) instead, to perform the operation inplace on the original object.\n",
      "\n",
      "\n",
      "  tb_data_cleaned[col].fillna(tb_data_cleaned[col].median(), inplace=True)\n",
      "C:\\Users\\MNAZHAR\\AppData\\Local\\Temp\\ipykernel_44760\\3112744729.py:15: FutureWarning: A value is trying to be set on a copy of a DataFrame or Series through chained assignment using an inplace method.\n",
      "The behavior will change in pandas 3.0. This inplace method will never work because the intermediate object on which we are setting values always behaves as a copy.\n",
      "\n",
      "For example, when doing 'df[col].method(value, inplace=True)', try using 'df.method({col: value}, inplace=True)' or df[col] = df[col].method(value) instead, to perform the operation inplace on the original object.\n",
      "\n",
      "\n",
      "  tb_data_cleaned[col].fillna(tb_data_cleaned[col].mode()[0], inplace=True)\n"
     ]
    }
   ],
   "source": [
    "# (a) Drop columns with excessive missing values (>90% missing)\n",
    "columns_to_drop = ['ptsurvey_newinc', 'ptsurvey_newinc_con04_prevtx']\n",
    "tb_data_cleaned = tb_data.drop(columns=columns_to_drop)\n",
    "\n",
    "# (b) Fill numeric missing values with the median\n",
    "numeric_cols = tb_data_cleaned.select_dtypes(include=['float64', 'int64']).columns\n",
    "for col in numeric_cols:\n",
    "    if tb_data_cleaned[col].isnull().sum() > 0:\n",
    "        tb_data_cleaned[col].fillna(tb_data_cleaned[col].median(), inplace=True)\n",
    "\n",
    "# (c) Fill categorical missing values with the mode\n",
    "categorical_cols = tb_data_cleaned.select_dtypes(include=['object', 'category']).columns\n",
    "for col in categorical_cols:\n",
    "    if tb_data_cleaned[col].isnull().sum() > 0:\n",
    "        tb_data_cleaned[col].fillna(tb_data_cleaned[col].mode()[0], inplace=True)"
   ]
  },
  {
   "cell_type": "markdown",
   "metadata": {},
   "source": [
    "### Step 4: Standardize Data Types"
   ]
  },
  {
   "cell_type": "code",
   "execution_count": 5,
   "metadata": {},
   "outputs": [],
   "source": [
    "# Convert categorical columns to the 'category' type\n",
    "tb_data_cleaned['country'] = tb_data_cleaned['country'].astype('category')\n",
    "tb_data_cleaned['iso3'] = tb_data_cleaned['iso3'].astype('category')\n",
    "tb_data_cleaned['g_whoregion'] = tb_data_cleaned['g_whoregion'].astype('category')\n",
    "tb_data_cleaned['source_hh'] = tb_data_cleaned['source_hh'].astype('category')\n"
   ]
  },
  {
   "cell_type": "markdown",
   "metadata": {},
   "source": [
    "### Step 5: Derive New Features"
   ]
  },
  {
   "cell_type": "code",
   "execution_count": 6,
   "metadata": {},
   "outputs": [],
   "source": [
    "# Calculate household_contact_rate\n",
    "tb_data_cleaned['household_contact_rate'] = tb_data_cleaned['e_hh_contacts'] / tb_data_cleaned['e_hh_size']"
   ]
  },
  {
   "cell_type": "markdown",
   "metadata": {},
   "source": [
    "### Step 6: Handle Inconsistent or Duplicate Rows"
   ]
  },
  {
   "cell_type": "code",
   "execution_count": 7,
   "metadata": {},
   "outputs": [],
   "source": [
    "tb_data_cleaned.dropna(subset=['country', 'iso3', 'year'], inplace=True)\n",
    "\n",
    "tb_data_cleaned = tb_data_cleaned.drop_duplicates()"
   ]
  },
  {
   "cell_type": "markdown",
   "metadata": {},
   "source": [
    "### Step 7: Validate Data Integrity"
   ]
  },
  {
   "cell_type": "code",
   "execution_count": 8,
   "metadata": {},
   "outputs": [
    {
     "name": "stdout",
     "output_type": "stream",
     "text": [
      "country                        0\n",
      "iso2                           0\n",
      "iso3                           0\n",
      "iso_numeric                    0\n",
      "g_whoregion                    0\n",
      "year                           0\n",
      "source_hh                      0\n",
      "e_hh_size                      0\n",
      "prevtx_data_available          0\n",
      "newinc_con_prevtx              0\n",
      "newinc_con04_prevtx            0\n",
      "e_hh_contacts                  0\n",
      "e_hh_contacts_lo               0\n",
      "e_hh_contacts_hi               0\n",
      "e_prevtx_hh_contacts_pct       0\n",
      "e_prevtx_hh_contacts_pct_lo    0\n",
      "e_prevtx_hh_contacts_pct_hi    0\n",
      "e_prevtx_eligible              0\n",
      "e_prevtx_eligible_lo           0\n",
      "e_prevtx_eligible_hi           0\n",
      "e_prevtx_kids_pct              0\n",
      "e_prevtx_kids_pct_lo           0\n",
      "e_prevtx_kids_pct_hi           0\n",
      "household_contact_rate         0\n",
      "dtype: int64\n"
     ]
    }
   ],
   "source": [
    "assert (tb_data_cleaned['e_prevtx_eligible_lo'] <= tb_data_cleaned['e_prevtx_eligible']).all()\n",
    "assert (tb_data_cleaned['e_prevtx_eligible'] <= tb_data_cleaned['e_prevtx_eligible_hi']).all()\n",
    "\n",
    "print(tb_data_cleaned.isnull().sum())\n"
   ]
  },
  {
   "cell_type": "markdown",
   "metadata": {},
   "source": [
    "### Step 8: Export Cleaned Data"
   ]
  },
  {
   "cell_type": "code",
   "execution_count": 9,
   "metadata": {},
   "outputs": [],
   "source": [
    "# Save the cleaned dataset for further analysis\n",
    "tb_data_cleaned.to_csv('LTBI_cleaned_data.csv', index=False)"
   ]
  },
  {
   "cell_type": "code",
   "execution_count": null,
   "metadata": {},
   "outputs": [],
   "source": []
  }
 ],
 "metadata": {
  "kernelspec": {
   "display_name": "base",
   "language": "python",
   "name": "python3"
  },
  "language_info": {
   "codemirror_mode": {
    "name": "ipython",
    "version": 3
   },
   "file_extension": ".py",
   "mimetype": "text/x-python",
   "name": "python",
   "nbconvert_exporter": "python",
   "pygments_lexer": "ipython3",
   "version": "3.12.4"
  }
 },
 "nbformat": 4,
 "nbformat_minor": 2
}
