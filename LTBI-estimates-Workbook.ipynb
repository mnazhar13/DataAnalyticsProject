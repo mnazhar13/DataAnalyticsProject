{
 "cells": [
  {
   "cell_type": "markdown",
   "metadata": {},
   "source": [
    "## SECP3223-02 Project - WHO TB Infection Estimates in Household Contacts\n",
    "\n",
    "## Group DataPioneers\n",
    "\n",
    "### Muhammad Nur Azhar Bin Mohd Yazid (A22EC0220) - Project Lead\n",
    "### Che Marhumi Bin Che Ab Rahim (A22EC0147)\n",
    "### Muhammad Safwan Bin Mohd Azmi (A22EC0221)"
   ]
  },
  {
   "cell_type": "markdown",
   "metadata": {},
   "source": [
    "# Data Dictionary for LTBI Estimates Dataset\n",
    "\n",
    "| **Column Name**                 | **Description**                                                                                     | **Data Type** |\n",
    "|----------------------------------|-----------------------------------------------------------------------------------------------------|---------------|\n",
    "| `country`                       | Name of the country                                                                                 | Category      |\n",
    "| `iso2`                          | 2-letter ISO country code (some missing values)                                                     | Category      |\n",
    "| `iso3`                          | 3-letter ISO country code                                                                            | Category      |\n",
    "| `iso_numeric`                   | Numeric ISO country code                                                                             | Integer       |\n",
    "| `g_whoregion`                   | WHO regional affiliation                                                                             | Category      |\n",
    "| `year`                          | Year of the estimate                                                                                 | Integer       |\n",
    "| `source_hh`                     | Source of household size data                                                                        | Category      |\n",
    "| `e_hh_size`                     | Estimated average household size                                                                     | Float         |\n",
    "| `prevtx_data_available`         | Indicator of whether previous treatment data is available                                            | Float         |\n",
    "| `newinc_con_prevtx`             | New TB cases in contacts with previous treatment (partially available)                              | Float         |\n",
    "| `newinc_con04_prevtx`           | New TB cases in children under 5 years in contacts with previous treatment                           | Float         |\n",
    "| `ptsurvey_newinc`               | TB prevalence survey data for new cases (highly missing data)                                        | Float         |\n",
    "| `ptsurvey_newinc_con04_prevtx`  | TB prevalence survey data for children under 5 years (highly missing data)                          | Float         |\n",
    "| `e_hh_contacts`                 | Estimated total household contacts                                                                   | Float         |\n",
    "| `e_hh_contacts_lo`              | Lower bound of estimated household contacts                                                         | Float         |\n",
    "| `e_hh_contacts_hi`              | Upper bound of estimated household contacts                                                         | Float         |\n",
    "| `e_prevtx_hh_contacts_pct`      | Percentage of household contacts with previous TB treatment                                          | Float         |\n",
    "| `e_prevtx_hh_contacts_pct_lo`   | Lower bound of percentage of household contacts with previous TB treatment                          | Float         |\n",
    "| `e_prevtx_hh_contacts_pct_hi`   | Upper bound of percentage of household contacts with previous TB treatment                          | Float         |\n",
    "| `e_prevtx_eligible`             | Estimated number of individuals eligible for treatment                                               | Float         |\n",
    "| `e_prevtx_eligible_lo`          | Lower bound of estimated individuals eligible for treatment                                          | Float         |\n",
    "| `e_prevtx_eligible_hi`          | Upper bound of estimated individuals eligible for treatment                                          | Float         |\n",
    "| `e_prevtx_kids_pct`             | Percentage of eligible individuals who are children                                                  | Float         |\n",
    "| `e_prevtx_kids_pct_lo`          | Lower bound of the percentage of eligible children                                                   | Float         |\n",
    "| `e_prevtx_kids_pct_hi`          | Upper bound of the percentage of eligible children                                                   | Float         |\n",
    "| `household_contact_rate`        | Calculated as the total estimated household contacts (`e_hh_contacts`) divided by the average household size (`e_hh_size`). Represents the average number of TB contacts per household member. | Float         |\n",
    "| `eligible_pct`                  | Calculated as the percentage of household contacts eligible for treatment. Derived as (`e_prevtx_eligible` / `e_hh_contacts`) * 100. Represents the proportion of household contacts eligible for further TB treatment. | Float         |"
   ]
  },
  {
   "cell_type": "markdown",
   "metadata": {},
   "source": [
    "## Research Questions Related to the Dataset\n",
    "\n",
    "1. Which countries or regions have the highest household contact rates for TB, and what factors might contribute to these rates?\n",
    "\n",
    "2. What percentage of household contacts with previous TB treatment (e.g., e_prevtx_hh_contacts_pct) are eligible for further treatment, and how does this vary by country or region?\n",
    "\n",
    "3. Is there a correlation between household size (e_hh_size) and the percentage of contacts with prior treatment (e_prevtx_hh_contacts_pct)?\n",
    "\n",
    "4. What are the key predictors of household contact rates (household_contact_rate), and how well can these be used to predict future rates?\n",
    "\n",
    "5. Have household contact rates or treatment eligibility improved over time (e.g., from 2015 to 2020), and are there any noticeable trends?"
   ]
  },
  {
   "cell_type": "markdown",
   "metadata": {},
   "source": [
    "## Part A: Data Cleaning & Data Preparation\n",
    "### Step 1: Load the dataset"
   ]
  },
  {
   "cell_type": "code",
   "execution_count": 205,
   "metadata": {},
   "outputs": [
    {
     "name": "stdout",
     "output_type": "stream",
     "text": [
      "Missing values before cleaning:\n",
      "country                            0\n",
      "iso2                               9\n",
      "iso3                               0\n",
      "iso_numeric                        0\n",
      "g_whoregion                        0\n",
      "year                               0\n",
      "source_hh                          0\n",
      "e_hh_size                          0\n",
      "prevtx_data_available            146\n",
      "newinc_con_prevtx                957\n",
      "newinc_con04_prevtx              642\n",
      "ptsurvey_newinc                 1696\n",
      "ptsurvey_newinc_con04_prevtx    1696\n",
      "e_hh_contacts                     18\n",
      "e_hh_contacts_lo                  18\n",
      "e_hh_contacts_hi                  18\n",
      "e_prevtx_hh_contacts_pct         644\n",
      "e_prevtx_hh_contacts_pct_lo      644\n",
      "e_prevtx_hh_contacts_pct_hi      644\n",
      "e_prevtx_eligible                 18\n",
      "e_prevtx_eligible_lo              18\n",
      "e_prevtx_eligible_hi              18\n",
      "e_prevtx_kids_pct                603\n",
      "e_prevtx_kids_pct_lo             603\n",
      "e_prevtx_kids_pct_hi             603\n",
      "dtype: int64\n"
     ]
    }
   ],
   "source": [
    "import pandas as pd\n",
    "\n",
    "# Load the dataset\n",
    "file_path = 'LTBI_estimates.csv'\n",
    "tb_data = pd.read_csv(file_path)\n",
    "\n",
    "# Overview of missing values before cleaning\n",
    "print(\"Missing values before cleaning:\")\n",
    "print(tb_data.isnull().sum())\n"
   ]
  },
  {
   "cell_type": "markdown",
   "metadata": {},
   "source": [
    "### Step 2: Drop Columns with Excessive Missing Values"
   ]
  },
  {
   "cell_type": "code",
   "execution_count": 206,
   "metadata": {},
   "outputs": [
    {
     "name": "stdout",
     "output_type": "stream",
     "text": [
      "Columns dropped: ['newinc_con_prevtx', 'newinc_con04_prevtx', 'ptsurvey_newinc', 'ptsurvey_newinc_con04_prevtx', 'iso2', 'iso3', 'iso_numeric', 'source_hh', 'newinc_con_prevtx', 'newinc_con04_prevtx', 'ptsurvey_newinc', 'ptsurvey_newinc_con04_prevtx', 'iso2', 'iso3', 'iso_numeric', 'source_hh']\n"
     ]
    }
   ],
   "source": [
    "# Add specific columns to drop\n",
    "columns_to_drop = ['newinc_con_prevtx', 'newinc_con04_prevtx', 'ptsurvey_newinc', 'ptsurvey_newinc_con04_prevtx', 'iso2', 'iso3', 'iso_numeric', 'source_hh']\n",
    "columns_to_drop.extend(columns_to_drop)\n",
    "\n",
    "# Drop the columns\n",
    "tb_data_cleaned = tb_data.drop(columns=columns_to_drop)\n",
    "\n",
    "print(f\"Columns dropped: {columns_to_drop}\")\n"
   ]
  },
  {
   "cell_type": "markdown",
   "metadata": {},
   "source": [
    "### Step 3a: Handling Missing Values in Numeric Columns with Median"
   ]
  },
  {
   "cell_type": "code",
   "execution_count": 207,
   "metadata": {},
   "outputs": [
    {
     "name": "stderr",
     "output_type": "stream",
     "text": [
      "C:\\Users\\MNAZHAR\\AppData\\Local\\Temp\\ipykernel_12320\\743980646.py:5: FutureWarning: A value is trying to be set on a copy of a DataFrame or Series through chained assignment using an inplace method.\n",
      "The behavior will change in pandas 3.0. This inplace method will never work because the intermediate object on which we are setting values always behaves as a copy.\n",
      "\n",
      "For example, when doing 'df[col].method(value, inplace=True)', try using 'df.method({col: value}, inplace=True)' or df[col] = df[col].method(value) instead, to perform the operation inplace on the original object.\n",
      "\n",
      "\n",
      "  tb_data_cleaned[col].fillna(tb_data_cleaned[col].median(), inplace=True)\n"
     ]
    }
   ],
   "source": [
    "# Handle missing values in numeric columns\n",
    "numeric_cols = tb_data_cleaned.select_dtypes(include=['float64', 'int64']).columns\n",
    "for col in numeric_cols:\n",
    "    if tb_data_cleaned[col].isnull().sum() > 0:\n",
    "        tb_data_cleaned[col].fillna(tb_data_cleaned[col].median(), inplace=True)\n"
   ]
  },
  {
   "cell_type": "markdown",
   "metadata": {},
   "source": [
    "### Step 4: Handle Missing Values in Categorical Columns with Mode"
   ]
  },
  {
   "cell_type": "code",
   "execution_count": 208,
   "metadata": {},
   "outputs": [],
   "source": [
    "# Handle missing values in categorical columns\n",
    "categorical_cols = tb_data_cleaned.select_dtypes(include=['object']).columns\n",
    "for col in categorical_cols:\n",
    "    if tb_data_cleaned[col].isnull().sum() > 0:\n",
    "        tb_data_cleaned[col].fillna(tb_data_cleaned[col].mode()[0], inplace=True)\n"
   ]
  },
  {
   "cell_type": "markdown",
   "metadata": {},
   "source": [
    "### Step 5: Replace Zeros in Critical Columns"
   ]
  },
  {
   "cell_type": "code",
   "execution_count": 209,
   "metadata": {},
   "outputs": [],
   "source": [
    "# Replace zeroes with median for critical numeric columns\n",
    "critical_cols = ['e_hh_contacts', 'e_hh_size', 'e_prevtx_eligible']\n",
    "for col in critical_cols:\n",
    "    if col in tb_data_cleaned.columns:\n",
    "        tb_data_cleaned[col] = tb_data_cleaned[col].replace(0, tb_data_cleaned[col].median())\n"
   ]
  },
  {
   "cell_type": "markdown",
   "metadata": {},
   "source": [
    "### Step 6: Verify the Data Cleaning"
   ]
  },
  {
   "cell_type": "code",
   "execution_count": 210,
   "metadata": {},
   "outputs": [
    {
     "name": "stdout",
     "output_type": "stream",
     "text": [
      "Missing values after cleaning:\n",
      "country                        0\n",
      "g_whoregion                    0\n",
      "year                           0\n",
      "e_hh_size                      0\n",
      "prevtx_data_available          0\n",
      "e_hh_contacts                  0\n",
      "e_hh_contacts_lo               0\n",
      "e_hh_contacts_hi               0\n",
      "e_prevtx_hh_contacts_pct       0\n",
      "e_prevtx_hh_contacts_pct_lo    0\n",
      "e_prevtx_hh_contacts_pct_hi    0\n",
      "e_prevtx_eligible              0\n",
      "e_prevtx_eligible_lo           0\n",
      "e_prevtx_eligible_hi           0\n",
      "e_prevtx_kids_pct              0\n",
      "e_prevtx_kids_pct_lo           0\n",
      "e_prevtx_kids_pct_hi           0\n",
      "dtype: int64\n",
      "<class 'pandas.core.frame.DataFrame'>\n",
      "RangeIndex: 1710 entries, 0 to 1709\n",
      "Data columns (total 17 columns):\n",
      " #   Column                       Non-Null Count  Dtype  \n",
      "---  ------                       --------------  -----  \n",
      " 0   country                      1710 non-null   object \n",
      " 1   g_whoregion                  1710 non-null   object \n",
      " 2   year                         1710 non-null   int64  \n",
      " 3   e_hh_size                    1710 non-null   float64\n",
      " 4   prevtx_data_available        1710 non-null   float64\n",
      " 5   e_hh_contacts                1710 non-null   float64\n",
      " 6   e_hh_contacts_lo             1710 non-null   float64\n",
      " 7   e_hh_contacts_hi             1710 non-null   float64\n",
      " 8   e_prevtx_hh_contacts_pct     1710 non-null   float64\n",
      " 9   e_prevtx_hh_contacts_pct_lo  1710 non-null   float64\n",
      " 10  e_prevtx_hh_contacts_pct_hi  1710 non-null   float64\n",
      " 11  e_prevtx_eligible            1710 non-null   float64\n",
      " 12  e_prevtx_eligible_lo         1710 non-null   float64\n",
      " 13  e_prevtx_eligible_hi         1710 non-null   float64\n",
      " 14  e_prevtx_kids_pct            1710 non-null   float64\n",
      " 15  e_prevtx_kids_pct_lo         1710 non-null   float64\n",
      " 16  e_prevtx_kids_pct_hi         1710 non-null   float64\n",
      "dtypes: float64(14), int64(1), object(2)\n",
      "memory usage: 227.2+ KB\n",
      "\n"
     ]
    },
    {
     "data": {
      "text/html": [
       "<div>\n",
       "<style scoped>\n",
       "    .dataframe tbody tr th:only-of-type {\n",
       "        vertical-align: middle;\n",
       "    }\n",
       "\n",
       "    .dataframe tbody tr th {\n",
       "        vertical-align: top;\n",
       "    }\n",
       "\n",
       "    .dataframe thead th {\n",
       "        text-align: right;\n",
       "    }\n",
       "</style>\n",
       "<table border=\"1\" class=\"dataframe\">\n",
       "  <thead>\n",
       "    <tr style=\"text-align: right;\">\n",
       "      <th></th>\n",
       "      <th>year</th>\n",
       "      <th>e_hh_size</th>\n",
       "      <th>prevtx_data_available</th>\n",
       "      <th>e_hh_contacts</th>\n",
       "      <th>e_hh_contacts_lo</th>\n",
       "      <th>e_hh_contacts_hi</th>\n",
       "      <th>e_prevtx_hh_contacts_pct</th>\n",
       "      <th>e_prevtx_hh_contacts_pct_lo</th>\n",
       "      <th>e_prevtx_hh_contacts_pct_hi</th>\n",
       "      <th>e_prevtx_eligible</th>\n",
       "      <th>e_prevtx_eligible_lo</th>\n",
       "      <th>e_prevtx_eligible_hi</th>\n",
       "      <th>e_prevtx_kids_pct</th>\n",
       "      <th>e_prevtx_kids_pct_lo</th>\n",
       "      <th>e_prevtx_kids_pct_hi</th>\n",
       "    </tr>\n",
       "  </thead>\n",
       "  <tbody>\n",
       "    <tr>\n",
       "      <th>count</th>\n",
       "      <td>1710.000000</td>\n",
       "      <td>1710.000000</td>\n",
       "      <td>1710.000000</td>\n",
       "      <td>1.710000e+03</td>\n",
       "      <td>1.710000e+03</td>\n",
       "      <td>1.710000e+03</td>\n",
       "      <td>1710.000000</td>\n",
       "      <td>1710.000000</td>\n",
       "      <td>1710.000000</td>\n",
       "      <td>1710.000000</td>\n",
       "      <td>1710.000000</td>\n",
       "      <td>1710.000000</td>\n",
       "      <td>1710.000000</td>\n",
       "      <td>1710.000000</td>\n",
       "      <td>1710.000000</td>\n",
       "    </tr>\n",
       "    <tr>\n",
       "      <th>mean</th>\n",
       "      <td>2019.000000</td>\n",
       "      <td>4.032526</td>\n",
       "      <td>40.973684</td>\n",
       "      <td>5.427519e+04</td>\n",
       "      <td>5.290911e+04</td>\n",
       "      <td>5.562178e+04</td>\n",
       "      <td>15.479661</td>\n",
       "      <td>15.158187</td>\n",
       "      <td>15.858895</td>\n",
       "      <td>6842.275982</td>\n",
       "      <td>6190.864930</td>\n",
       "      <td>7498.536830</td>\n",
       "      <td>55.360123</td>\n",
       "      <td>50.652146</td>\n",
       "      <td>60.685977</td>\n",
       "    </tr>\n",
       "    <tr>\n",
       "      <th>std</th>\n",
       "      <td>2.582744</td>\n",
       "      <td>1.364509</td>\n",
       "      <td>27.980075</td>\n",
       "      <td>2.396066e+05</td>\n",
       "      <td>2.341210e+05</td>\n",
       "      <td>2.460839e+05</td>\n",
       "      <td>19.997558</td>\n",
       "      <td>19.716868</td>\n",
       "      <td>20.274626</td>\n",
       "      <td>27431.983421</td>\n",
       "      <td>24991.634353</td>\n",
       "      <td>29926.958518</td>\n",
       "      <td>30.117366</td>\n",
       "      <td>29.902866</td>\n",
       "      <td>30.393728</td>\n",
       "    </tr>\n",
       "    <tr>\n",
       "      <th>min</th>\n",
       "      <td>2015.000000</td>\n",
       "      <td>2.070000</td>\n",
       "      <td>0.000000</td>\n",
       "      <td>1.100000e+00</td>\n",
       "      <td>0.000000e+00</td>\n",
       "      <td>0.000000e+00</td>\n",
       "      <td>0.000000</td>\n",
       "      <td>0.000000</td>\n",
       "      <td>0.000000</td>\n",
       "      <td>0.090000</td>\n",
       "      <td>0.000000</td>\n",
       "      <td>0.000000</td>\n",
       "      <td>0.000000</td>\n",
       "      <td>0.000000</td>\n",
       "      <td>0.000000</td>\n",
       "    </tr>\n",
       "    <tr>\n",
       "      <th>25%</th>\n",
       "      <td>2017.000000</td>\n",
       "      <td>2.850000</td>\n",
       "      <td>1.000000</td>\n",
       "      <td>4.600000e+02</td>\n",
       "      <td>4.300000e+02</td>\n",
       "      <td>4.500000e+02</td>\n",
       "      <td>7.100000</td>\n",
       "      <td>6.900000</td>\n",
       "      <td>7.300000</td>\n",
       "      <td>14.000000</td>\n",
       "      <td>8.600000</td>\n",
       "      <td>15.250000</td>\n",
       "      <td>36.000000</td>\n",
       "      <td>33.000000</td>\n",
       "      <td>41.000000</td>\n",
       "    </tr>\n",
       "    <tr>\n",
       "      <th>50%</th>\n",
       "      <td>2019.000000</td>\n",
       "      <td>3.880000</td>\n",
       "      <td>60.000000</td>\n",
       "      <td>4.500000e+03</td>\n",
       "      <td>4.400000e+03</td>\n",
       "      <td>4.600000e+03</td>\n",
       "      <td>9.550000</td>\n",
       "      <td>9.350000</td>\n",
       "      <td>9.850000</td>\n",
       "      <td>250.000000</td>\n",
       "      <td>180.000000</td>\n",
       "      <td>325.000000</td>\n",
       "      <td>54.000000</td>\n",
       "      <td>47.000000</td>\n",
       "      <td>62.000000</td>\n",
       "    </tr>\n",
       "    <tr>\n",
       "      <th>75%</th>\n",
       "      <td>2021.000000</td>\n",
       "      <td>4.920000</td>\n",
       "      <td>60.000000</td>\n",
       "      <td>2.200000e+04</td>\n",
       "      <td>2.175000e+04</td>\n",
       "      <td>2.300000e+04</td>\n",
       "      <td>13.000000</td>\n",
       "      <td>13.000000</td>\n",
       "      <td>13.000000</td>\n",
       "      <td>2900.000000</td>\n",
       "      <td>2575.000000</td>\n",
       "      <td>3275.000000</td>\n",
       "      <td>76.750000</td>\n",
       "      <td>67.000000</td>\n",
       "      <td>93.000000</td>\n",
       "    </tr>\n",
       "    <tr>\n",
       "      <th>max</th>\n",
       "      <td>2023.000000</td>\n",
       "      <td>8.660000</td>\n",
       "      <td>66.000000</td>\n",
       "      <td>3.500000e+06</td>\n",
       "      <td>3.400000e+06</td>\n",
       "      <td>3.600000e+06</td>\n",
       "      <td>100.000000</td>\n",
       "      <td>100.000000</td>\n",
       "      <td>100.000000</td>\n",
       "      <td>350000.000000</td>\n",
       "      <td>310000.000000</td>\n",
       "      <td>380000.000000</td>\n",
       "      <td>100.000000</td>\n",
       "      <td>100.000000</td>\n",
       "      <td>100.000000</td>\n",
       "    </tr>\n",
       "  </tbody>\n",
       "</table>\n",
       "</div>"
      ],
      "text/plain": [
       "              year    e_hh_size  prevtx_data_available  e_hh_contacts  \\\n",
       "count  1710.000000  1710.000000            1710.000000   1.710000e+03   \n",
       "mean   2019.000000     4.032526              40.973684   5.427519e+04   \n",
       "std       2.582744     1.364509              27.980075   2.396066e+05   \n",
       "min    2015.000000     2.070000               0.000000   1.100000e+00   \n",
       "25%    2017.000000     2.850000               1.000000   4.600000e+02   \n",
       "50%    2019.000000     3.880000              60.000000   4.500000e+03   \n",
       "75%    2021.000000     4.920000              60.000000   2.200000e+04   \n",
       "max    2023.000000     8.660000              66.000000   3.500000e+06   \n",
       "\n",
       "       e_hh_contacts_lo  e_hh_contacts_hi  e_prevtx_hh_contacts_pct  \\\n",
       "count      1.710000e+03      1.710000e+03               1710.000000   \n",
       "mean       5.290911e+04      5.562178e+04                 15.479661   \n",
       "std        2.341210e+05      2.460839e+05                 19.997558   \n",
       "min        0.000000e+00      0.000000e+00                  0.000000   \n",
       "25%        4.300000e+02      4.500000e+02                  7.100000   \n",
       "50%        4.400000e+03      4.600000e+03                  9.550000   \n",
       "75%        2.175000e+04      2.300000e+04                 13.000000   \n",
       "max        3.400000e+06      3.600000e+06                100.000000   \n",
       "\n",
       "       e_prevtx_hh_contacts_pct_lo  e_prevtx_hh_contacts_pct_hi  \\\n",
       "count                  1710.000000                  1710.000000   \n",
       "mean                     15.158187                    15.858895   \n",
       "std                      19.716868                    20.274626   \n",
       "min                       0.000000                     0.000000   \n",
       "25%                       6.900000                     7.300000   \n",
       "50%                       9.350000                     9.850000   \n",
       "75%                      13.000000                    13.000000   \n",
       "max                     100.000000                   100.000000   \n",
       "\n",
       "       e_prevtx_eligible  e_prevtx_eligible_lo  e_prevtx_eligible_hi  \\\n",
       "count        1710.000000           1710.000000           1710.000000   \n",
       "mean         6842.275982           6190.864930           7498.536830   \n",
       "std         27431.983421          24991.634353          29926.958518   \n",
       "min             0.090000              0.000000              0.000000   \n",
       "25%            14.000000              8.600000             15.250000   \n",
       "50%           250.000000            180.000000            325.000000   \n",
       "75%          2900.000000           2575.000000           3275.000000   \n",
       "max        350000.000000         310000.000000         380000.000000   \n",
       "\n",
       "       e_prevtx_kids_pct  e_prevtx_kids_pct_lo  e_prevtx_kids_pct_hi  \n",
       "count        1710.000000           1710.000000           1710.000000  \n",
       "mean           55.360123             50.652146             60.685977  \n",
       "std            30.117366             29.902866             30.393728  \n",
       "min             0.000000              0.000000              0.000000  \n",
       "25%            36.000000             33.000000             41.000000  \n",
       "50%            54.000000             47.000000             62.000000  \n",
       "75%            76.750000             67.000000             93.000000  \n",
       "max           100.000000            100.000000            100.000000  "
      ]
     },
     "execution_count": 210,
     "metadata": {},
     "output_type": "execute_result"
    }
   ],
   "source": [
    "# Overview of missing values after cleaning\n",
    "print(\"Missing values after cleaning:\")\n",
    "print(tb_data_cleaned.isnull().sum())\n",
    "\n",
    "tb_data_cleaned.info()\n",
    "print()\n",
    "tb_data_cleaned.describe()"
   ]
  },
  {
   "cell_type": "code",
   "execution_count": 211,
   "metadata": {},
   "outputs": [
    {
     "name": "stdout",
     "output_type": "stream",
     "text": [
      "Cleaned dataset saved as 'LTBI_estimates_cleaned.csv'.\n"
     ]
    }
   ],
   "source": [
    "# Save cleaned dataset for further use\n",
    "tb_data_cleaned.to_csv('LTBI_estimates_cleaned.csv', index=False)\n",
    "print(\"Cleaned dataset saved as 'LTBI_estimates_cleaned.csv'.\")"
   ]
  },
  {
   "cell_type": "markdown",
   "metadata": {},
   "source": [
    "## Part B: Data Preparation"
   ]
  },
  {
   "cell_type": "markdown",
   "metadata": {},
   "source": [
    "### Step 1: Load the Cleaned Dataset"
   ]
  },
  {
   "cell_type": "code",
   "execution_count": 212,
   "metadata": {},
   "outputs": [
    {
     "name": "stdout",
     "output_type": "stream",
     "text": [
      "Loaded cleaned dataset:\n",
      "       country g_whoregion  year  e_hh_size  prevtx_data_available  \\\n",
      "0  Afghanistan         EMR  2015       8.04                   60.0   \n",
      "1  Afghanistan         EMR  2016       8.04                   60.0   \n",
      "2  Afghanistan         EMR  2017       8.04                   60.0   \n",
      "3  Afghanistan         EMR  2018       8.04                   60.0   \n",
      "4  Afghanistan         EMR  2019       8.04                   60.0   \n",
      "\n",
      "   e_hh_contacts  e_hh_contacts_lo  e_hh_contacts_hi  \\\n",
      "0       120000.0          110000.0          120000.0   \n",
      "1       130000.0          130000.0          130000.0   \n",
      "2       140000.0          130000.0          140000.0   \n",
      "3       140000.0          140000.0          150000.0   \n",
      "4       170000.0          160000.0          170000.0   \n",
      "\n",
      "   e_prevtx_hh_contacts_pct  e_prevtx_hh_contacts_pct_lo  \\\n",
      "0                       8.7                          8.5   \n",
      "1                      12.0                         12.0   \n",
      "2                      35.0                         34.0   \n",
      "3                      16.0                         15.0   \n",
      "4                      15.0                         15.0   \n",
      "\n",
      "   e_prevtx_hh_contacts_pct_hi  e_prevtx_eligible  e_prevtx_eligible_lo  \\\n",
      "0                          8.9            22000.0               20000.0   \n",
      "1                         12.0            24000.0               22000.0   \n",
      "2                         35.0            25000.0               23000.0   \n",
      "3                         16.0            26000.0               24000.0   \n",
      "4                         15.0            30000.0               27000.0   \n",
      "\n",
      "   e_prevtx_eligible_hi  e_prevtx_kids_pct  e_prevtx_kids_pct_lo  \\\n",
      "0               24000.0               46.0                  42.0   \n",
      "1               26000.0               64.0                  58.0   \n",
      "2               28000.0               97.0                  89.0   \n",
      "3               29000.0               85.0                  78.0   \n",
      "4               33000.0               82.0                  76.0   \n",
      "\n",
      "   e_prevtx_kids_pct_hi  \n",
      "0                  51.0  \n",
      "1                  70.0  \n",
      "2                 100.0  \n",
      "3                  93.0  \n",
      "4                  90.0  \n"
     ]
    }
   ],
   "source": [
    "# Load the cleaned dataset\n",
    "file_path_cleaned = 'LTBI_estimates_cleaned.csv'\n",
    "tb_data_prepared = pd.read_csv(file_path_cleaned)\n",
    "\n",
    "# Verify the loaded data\n",
    "print(\"Loaded cleaned dataset:\")\n",
    "print(tb_data_prepared.head())\n"
   ]
  },
  {
   "cell_type": "markdown",
   "metadata": {},
   "source": [
    "### Step 2: Create Derived Features\n",
    "\n",
    "- household_contact_rate: Total household contacts divided by household size.\n",
    "\n",
    "- eligible_pct: Percentage of eligible household contacts for treatment."
   ]
  },
  {
   "cell_type": "code",
   "execution_count": 213,
   "metadata": {},
   "outputs": [
    {
     "name": "stdout",
     "output_type": "stream",
     "text": [
      "Derived features created: 'household_contact_per_people', 'eligible_percent'.\n"
     ]
    }
   ],
   "source": [
    "# Create derived features\n",
    "tb_data_prepared['household_contact_per_people'] = (tb_data_prepared['e_hh_contacts'] / tb_data_prepared['e_hh_size']).round(2)\n",
    "tb_data_prepared['eligible_percent'] = ((tb_data_prepared['e_prevtx_eligible'] / tb_data_prepared['e_hh_contacts']) * 100).round(2)\n",
    "\n",
    "print(\"Derived features created: 'household_contact_per_people', 'eligible_percent'.\")\n"
   ]
  },
  {
   "cell_type": "code",
   "execution_count": 214,
   "metadata": {},
   "outputs": [
    {
     "name": "stdout",
     "output_type": "stream",
     "text": [
      "<class 'pandas.core.frame.DataFrame'>\n",
      "RangeIndex: 1710 entries, 0 to 1709\n",
      "Data columns (total 19 columns):\n",
      " #   Column                        Non-Null Count  Dtype  \n",
      "---  ------                        --------------  -----  \n",
      " 0   country                       1710 non-null   object \n",
      " 1   g_whoregion                   1710 non-null   object \n",
      " 2   year                          1710 non-null   int64  \n",
      " 3   e_hh_size                     1710 non-null   float64\n",
      " 4   prevtx_data_available         1710 non-null   float64\n",
      " 5   e_hh_contacts                 1710 non-null   float64\n",
      " 6   e_hh_contacts_lo              1710 non-null   float64\n",
      " 7   e_hh_contacts_hi              1710 non-null   float64\n",
      " 8   e_prevtx_hh_contacts_pct      1710 non-null   float64\n",
      " 9   e_prevtx_hh_contacts_pct_lo   1710 non-null   float64\n",
      " 10  e_prevtx_hh_contacts_pct_hi   1710 non-null   float64\n",
      " 11  e_prevtx_eligible             1710 non-null   float64\n",
      " 12  e_prevtx_eligible_lo          1710 non-null   float64\n",
      " 13  e_prevtx_eligible_hi          1710 non-null   float64\n",
      " 14  e_prevtx_kids_pct             1710 non-null   float64\n",
      " 15  e_prevtx_kids_pct_lo          1710 non-null   float64\n",
      " 16  e_prevtx_kids_pct_hi          1710 non-null   float64\n",
      " 17  household_contact_per_people  1710 non-null   float64\n",
      " 18  eligible_percent              1710 non-null   float64\n",
      "dtypes: float64(16), int64(1), object(2)\n",
      "memory usage: 254.0+ KB\n",
      "\n"
     ]
    },
    {
     "data": {
      "text/html": [
       "<div>\n",
       "<style scoped>\n",
       "    .dataframe tbody tr th:only-of-type {\n",
       "        vertical-align: middle;\n",
       "    }\n",
       "\n",
       "    .dataframe tbody tr th {\n",
       "        vertical-align: top;\n",
       "    }\n",
       "\n",
       "    .dataframe thead th {\n",
       "        text-align: right;\n",
       "    }\n",
       "</style>\n",
       "<table border=\"1\" class=\"dataframe\">\n",
       "  <thead>\n",
       "    <tr style=\"text-align: right;\">\n",
       "      <th></th>\n",
       "      <th>year</th>\n",
       "      <th>e_hh_size</th>\n",
       "      <th>prevtx_data_available</th>\n",
       "      <th>e_hh_contacts</th>\n",
       "      <th>e_hh_contacts_lo</th>\n",
       "      <th>e_hh_contacts_hi</th>\n",
       "      <th>e_prevtx_hh_contacts_pct</th>\n",
       "      <th>e_prevtx_hh_contacts_pct_lo</th>\n",
       "      <th>e_prevtx_hh_contacts_pct_hi</th>\n",
       "      <th>e_prevtx_eligible</th>\n",
       "      <th>e_prevtx_eligible_lo</th>\n",
       "      <th>e_prevtx_eligible_hi</th>\n",
       "      <th>e_prevtx_kids_pct</th>\n",
       "      <th>e_prevtx_kids_pct_lo</th>\n",
       "      <th>e_prevtx_kids_pct_hi</th>\n",
       "      <th>household_contact_per_people</th>\n",
       "      <th>eligible_percent</th>\n",
       "    </tr>\n",
       "  </thead>\n",
       "  <tbody>\n",
       "    <tr>\n",
       "      <th>count</th>\n",
       "      <td>1710.000000</td>\n",
       "      <td>1710.000000</td>\n",
       "      <td>1710.000000</td>\n",
       "      <td>1.710000e+03</td>\n",
       "      <td>1.710000e+03</td>\n",
       "      <td>1.710000e+03</td>\n",
       "      <td>1710.000000</td>\n",
       "      <td>1710.000000</td>\n",
       "      <td>1710.000000</td>\n",
       "      <td>1710.000000</td>\n",
       "      <td>1710.000000</td>\n",
       "      <td>1710.000000</td>\n",
       "      <td>1710.000000</td>\n",
       "      <td>1710.000000</td>\n",
       "      <td>1710.000000</td>\n",
       "      <td>1710.000000</td>\n",
       "      <td>1710.000000</td>\n",
       "    </tr>\n",
       "    <tr>\n",
       "      <th>mean</th>\n",
       "      <td>2019.000000</td>\n",
       "      <td>4.032526</td>\n",
       "      <td>40.973684</td>\n",
       "      <td>5.427519e+04</td>\n",
       "      <td>5.290911e+04</td>\n",
       "      <td>5.562178e+04</td>\n",
       "      <td>15.479661</td>\n",
       "      <td>15.158187</td>\n",
       "      <td>15.858895</td>\n",
       "      <td>6842.275982</td>\n",
       "      <td>6190.864930</td>\n",
       "      <td>7498.536830</td>\n",
       "      <td>55.360123</td>\n",
       "      <td>50.652146</td>\n",
       "      <td>60.685977</td>\n",
       "      <td>12445.914497</td>\n",
       "      <td>9.142275</td>\n",
       "    </tr>\n",
       "    <tr>\n",
       "      <th>std</th>\n",
       "      <td>2.582744</td>\n",
       "      <td>1.364509</td>\n",
       "      <td>27.980075</td>\n",
       "      <td>2.396066e+05</td>\n",
       "      <td>2.341210e+05</td>\n",
       "      <td>2.460839e+05</td>\n",
       "      <td>19.997558</td>\n",
       "      <td>19.716868</td>\n",
       "      <td>20.274626</td>\n",
       "      <td>27431.983421</td>\n",
       "      <td>24991.634353</td>\n",
       "      <td>29926.958518</td>\n",
       "      <td>30.117366</td>\n",
       "      <td>29.902866</td>\n",
       "      <td>30.393728</td>\n",
       "      <td>54783.357426</td>\n",
       "      <td>6.929037</td>\n",
       "    </tr>\n",
       "    <tr>\n",
       "      <th>min</th>\n",
       "      <td>2015.000000</td>\n",
       "      <td>2.070000</td>\n",
       "      <td>0.000000</td>\n",
       "      <td>1.100000e+00</td>\n",
       "      <td>0.000000e+00</td>\n",
       "      <td>0.000000e+00</td>\n",
       "      <td>0.000000</td>\n",
       "      <td>0.000000</td>\n",
       "      <td>0.000000</td>\n",
       "      <td>0.090000</td>\n",
       "      <td>0.000000</td>\n",
       "      <td>0.000000</td>\n",
       "      <td>0.000000</td>\n",
       "      <td>0.000000</td>\n",
       "      <td>0.000000</td>\n",
       "      <td>0.490000</td>\n",
       "      <td>0.320000</td>\n",
       "    </tr>\n",
       "    <tr>\n",
       "      <th>25%</th>\n",
       "      <td>2017.000000</td>\n",
       "      <td>2.850000</td>\n",
       "      <td>1.000000</td>\n",
       "      <td>4.600000e+02</td>\n",
       "      <td>4.300000e+02</td>\n",
       "      <td>4.500000e+02</td>\n",
       "      <td>7.100000</td>\n",
       "      <td>6.900000</td>\n",
       "      <td>7.300000</td>\n",
       "      <td>14.000000</td>\n",
       "      <td>8.600000</td>\n",
       "      <td>15.250000</td>\n",
       "      <td>36.000000</td>\n",
       "      <td>33.000000</td>\n",
       "      <td>41.000000</td>\n",
       "      <td>145.722500</td>\n",
       "      <td>2.500000</td>\n",
       "    </tr>\n",
       "    <tr>\n",
       "      <th>50%</th>\n",
       "      <td>2019.000000</td>\n",
       "      <td>3.880000</td>\n",
       "      <td>60.000000</td>\n",
       "      <td>4.500000e+03</td>\n",
       "      <td>4.400000e+03</td>\n",
       "      <td>4.600000e+03</td>\n",
       "      <td>9.550000</td>\n",
       "      <td>9.350000</td>\n",
       "      <td>9.850000</td>\n",
       "      <td>250.000000</td>\n",
       "      <td>180.000000</td>\n",
       "      <td>325.000000</td>\n",
       "      <td>54.000000</td>\n",
       "      <td>47.000000</td>\n",
       "      <td>62.000000</td>\n",
       "      <td>1273.795000</td>\n",
       "      <td>8.050000</td>\n",
       "    </tr>\n",
       "    <tr>\n",
       "      <th>75%</th>\n",
       "      <td>2021.000000</td>\n",
       "      <td>4.920000</td>\n",
       "      <td>60.000000</td>\n",
       "      <td>2.200000e+04</td>\n",
       "      <td>2.175000e+04</td>\n",
       "      <td>2.300000e+04</td>\n",
       "      <td>13.000000</td>\n",
       "      <td>13.000000</td>\n",
       "      <td>13.000000</td>\n",
       "      <td>2900.000000</td>\n",
       "      <td>2575.000000</td>\n",
       "      <td>3275.000000</td>\n",
       "      <td>76.750000</td>\n",
       "      <td>67.000000</td>\n",
       "      <td>93.000000</td>\n",
       "      <td>5187.840000</td>\n",
       "      <td>15.775000</td>\n",
       "    </tr>\n",
       "    <tr>\n",
       "      <th>max</th>\n",
       "      <td>2023.000000</td>\n",
       "      <td>8.660000</td>\n",
       "      <td>66.000000</td>\n",
       "      <td>3.500000e+06</td>\n",
       "      <td>3.400000e+06</td>\n",
       "      <td>3.600000e+06</td>\n",
       "      <td>100.000000</td>\n",
       "      <td>100.000000</td>\n",
       "      <td>100.000000</td>\n",
       "      <td>350000.000000</td>\n",
       "      <td>310000.000000</td>\n",
       "      <td>380000.000000</td>\n",
       "      <td>100.000000</td>\n",
       "      <td>100.000000</td>\n",
       "      <td>100.000000</td>\n",
       "      <td>799086.760000</td>\n",
       "      <td>23.330000</td>\n",
       "    </tr>\n",
       "  </tbody>\n",
       "</table>\n",
       "</div>"
      ],
      "text/plain": [
       "              year    e_hh_size  prevtx_data_available  e_hh_contacts  \\\n",
       "count  1710.000000  1710.000000            1710.000000   1.710000e+03   \n",
       "mean   2019.000000     4.032526              40.973684   5.427519e+04   \n",
       "std       2.582744     1.364509              27.980075   2.396066e+05   \n",
       "min    2015.000000     2.070000               0.000000   1.100000e+00   \n",
       "25%    2017.000000     2.850000               1.000000   4.600000e+02   \n",
       "50%    2019.000000     3.880000              60.000000   4.500000e+03   \n",
       "75%    2021.000000     4.920000              60.000000   2.200000e+04   \n",
       "max    2023.000000     8.660000              66.000000   3.500000e+06   \n",
       "\n",
       "       e_hh_contacts_lo  e_hh_contacts_hi  e_prevtx_hh_contacts_pct  \\\n",
       "count      1.710000e+03      1.710000e+03               1710.000000   \n",
       "mean       5.290911e+04      5.562178e+04                 15.479661   \n",
       "std        2.341210e+05      2.460839e+05                 19.997558   \n",
       "min        0.000000e+00      0.000000e+00                  0.000000   \n",
       "25%        4.300000e+02      4.500000e+02                  7.100000   \n",
       "50%        4.400000e+03      4.600000e+03                  9.550000   \n",
       "75%        2.175000e+04      2.300000e+04                 13.000000   \n",
       "max        3.400000e+06      3.600000e+06                100.000000   \n",
       "\n",
       "       e_prevtx_hh_contacts_pct_lo  e_prevtx_hh_contacts_pct_hi  \\\n",
       "count                  1710.000000                  1710.000000   \n",
       "mean                     15.158187                    15.858895   \n",
       "std                      19.716868                    20.274626   \n",
       "min                       0.000000                     0.000000   \n",
       "25%                       6.900000                     7.300000   \n",
       "50%                       9.350000                     9.850000   \n",
       "75%                      13.000000                    13.000000   \n",
       "max                     100.000000                   100.000000   \n",
       "\n",
       "       e_prevtx_eligible  e_prevtx_eligible_lo  e_prevtx_eligible_hi  \\\n",
       "count        1710.000000           1710.000000           1710.000000   \n",
       "mean         6842.275982           6190.864930           7498.536830   \n",
       "std         27431.983421          24991.634353          29926.958518   \n",
       "min             0.090000              0.000000              0.000000   \n",
       "25%            14.000000              8.600000             15.250000   \n",
       "50%           250.000000            180.000000            325.000000   \n",
       "75%          2900.000000           2575.000000           3275.000000   \n",
       "max        350000.000000         310000.000000         380000.000000   \n",
       "\n",
       "       e_prevtx_kids_pct  e_prevtx_kids_pct_lo  e_prevtx_kids_pct_hi  \\\n",
       "count        1710.000000           1710.000000           1710.000000   \n",
       "mean           55.360123             50.652146             60.685977   \n",
       "std            30.117366             29.902866             30.393728   \n",
       "min             0.000000              0.000000              0.000000   \n",
       "25%            36.000000             33.000000             41.000000   \n",
       "50%            54.000000             47.000000             62.000000   \n",
       "75%            76.750000             67.000000             93.000000   \n",
       "max           100.000000            100.000000            100.000000   \n",
       "\n",
       "       household_contact_per_people  eligible_percent  \n",
       "count                   1710.000000       1710.000000  \n",
       "mean                   12445.914497          9.142275  \n",
       "std                    54783.357426          6.929037  \n",
       "min                        0.490000          0.320000  \n",
       "25%                      145.722500          2.500000  \n",
       "50%                     1273.795000          8.050000  \n",
       "75%                     5187.840000         15.775000  \n",
       "max                   799086.760000         23.330000  "
      ]
     },
     "execution_count": 214,
     "metadata": {},
     "output_type": "execute_result"
    }
   ],
   "source": [
    "tb_data_prepared.info()\n",
    "print()\n",
    "tb_data_prepared.describe()"
   ]
  },
  {
   "cell_type": "markdown",
   "metadata": {},
   "source": [
    "### Step 3: Save the prepared dataset\n",
    "\n",
    "#### Save the prepared dataset for future use.\n"
   ]
  },
  {
   "cell_type": "code",
   "execution_count": 215,
   "metadata": {},
   "outputs": [
    {
     "name": "stdout",
     "output_type": "stream",
     "text": [
      "Prepared dataset saved as 'LTBI_estimates_prepared.csv'.\n"
     ]
    }
   ],
   "source": [
    "# Save the prepared dataset\n",
    "tb_data_prepared.to_csv('LTBI_estimates_prepared.csv', index=False)\n",
    "print(\"Prepared dataset saved as 'LTBI_estimates_prepared.csv'.\")\n"
   ]
  },
  {
   "cell_type": "markdown",
   "metadata": {},
   "source": [
    "## Part C: Feature Engineering and Data Aggregation"
   ]
  },
  {
   "cell_type": "markdown",
   "metadata": {},
   "source": [
    "### Step 1: Load the Prepared Dataset"
   ]
  },
  {
   "cell_type": "code",
   "execution_count": 216,
   "metadata": {},
   "outputs": [],
   "source": [
    "# Load dataset\n",
    "file_path = 'LTBI_estimates_prepared.csv'\n",
    "tb_data_prepared = pd.read_csv(file_path)"
   ]
  },
  {
   "cell_type": "markdown",
   "metadata": {},
   "source": [
    "### Step 2: Group Data by Year and Region\n",
    "\n",
    "#### Group the data by year and g_whoregion (region) to calculate the mean household_contact_rate and eligible_pct."
   ]
  },
  {
   "cell_type": "code",
   "execution_count": 217,
   "metadata": {},
   "outputs": [
    {
     "name": "stdout",
     "output_type": "stream",
     "text": [
      "                  household_contact_per_people  eligible_percent\n",
      "year g_whoregion                                                \n",
      "2015 AFR                          10514.545106         18.283191\n",
      "     AMR                           2897.724000          6.418286\n",
      "     EMR                           7251.751364          9.298182\n",
      "     EUR                           1646.915294          4.093137\n",
      "     SEA                          85157.520000         10.455455\n"
     ]
    }
   ],
   "source": [
    "# Group data by year and region\n",
    "year_region_agg = tb_data_prepared.groupby(['year', 'g_whoregion'])[['household_contact_per_people', 'eligible_percent']].mean()\n",
    "\n",
    "# Display the aggregated data\n",
    "print(year_region_agg.head())\n"
   ]
  },
  {
   "cell_type": "markdown",
   "metadata": {},
   "source": [
    "### Step 3: Reset Index for Easier Access\n",
    "\n",
    "#### After grouping, reset the index to simplify further analysis or visualization."
   ]
  },
  {
   "cell_type": "code",
   "execution_count": 218,
   "metadata": {},
   "outputs": [
    {
     "name": "stdout",
     "output_type": "stream",
     "text": [
      "   year g_whoregion  household_contact_per_people  eligible_percent\n",
      "0  2015         AFR                  10514.545106         18.283191\n",
      "1  2015         AMR                   2897.724000          6.418286\n",
      "2  2015         EMR                   7251.751364          9.298182\n",
      "3  2015         EUR                   1646.915294          4.093137\n",
      "4  2015         SEA                  85157.520000         10.455455\n"
     ]
    }
   ],
   "source": [
    "# Reset the index for easier handling\n",
    "year_region_agg = year_region_agg.reset_index()\n",
    "\n",
    "# Display the reshaped data\n",
    "print(year_region_agg.head())\n"
   ]
  },
  {
   "cell_type": "markdown",
   "metadata": {},
   "source": [
    "### Step 4: Visualize Year and Region Aggregation\n",
    "\n",
    "#### Use a bar chart or line plot to visualize the trends of household_contact_rate and eligible_pct by year and region."
   ]
  },
  {
   "cell_type": "code",
   "execution_count": 220,
   "metadata": {},
   "outputs": [
    {
     "data": {
      "image/png": "[encoded data removed]",
      "text/plain": [
       "<Figure size 1200x600 with 1 Axes>"
      ]
     },
     "metadata": {},
     "output_type": "display_data"
    },
    {
     "data": {
      "image/png": "[encoded data removed]",
      "text/plain": [
       "<Figure size 1200x600 with 1 Axes>"
      ]
     },
     "metadata": {},
     "output_type": "display_data"
    }
   ],
   "source": [
    "import matplotlib.pyplot as plt\n",
    "import seaborn as sns\n",
    "\n",
    "# Line plot for household_contact_rate trends\n",
    "plt.figure(figsize=(12, 6))\n",
    "sns.lineplot(data=year_region_agg, x='year', y='household_contact_per_people', hue='g_whoregion', marker='o')\n",
    "plt.title('Household Contact Per People by Year and Region')\n",
    "plt.xlabel('Year')\n",
    "plt.ylabel('Household Contact Per People')\n",
    "plt.legend(title='WHO Region')\n",
    "plt.grid()\n",
    "plt.show()\n",
    "\n",
    "# Line plot for eligible_pct trends\n",
    "plt.figure(figsize=(12, 6))\n",
    "sns.lineplot(data=year_region_agg, x='year', y='eligible_percent', hue='g_whoregion', marker='s')\n",
    "plt.title('Treatment Eligibility Percentage by Year and Region')\n",
    "plt.xlabel('Year')\n",
    "plt.ylabel('Eligibility Percentage')\n",
    "plt.legend(title='WHO Region')\n",
    "plt.grid()\n",
    "plt.show()\n"
   ]
  },
  {
   "cell_type": "code",
   "execution_count": null,
   "metadata": {},
   "outputs": [],
   "source": []
  }
 ],
 "metadata": {
  "kernelspec": {
   "display_name": "base",
   "language": "python",
   "name": "python3"
  },
  "language_info": {
   "codemirror_mode": {
    "name": "ipython",
    "version": 3
   },
   "file_extension": ".py",
   "mimetype": "text/x-python",
   "name": "python",
   "nbconvert_exporter": "python",
   "pygments_lexer": "ipython3",
   "version": "3.12.4"
  }
 },
 "nbformat": 4,
 "nbformat_minor": 2
}
